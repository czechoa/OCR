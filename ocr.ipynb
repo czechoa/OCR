{
 "cells": [
  {
   "cell_type": "markdown",
   "metadata": {},
   "source": [
    "# 1 Load data and Api"
   ]
  },
  {
   "cell_type": "code",
   "execution_count": 3,
   "metadata": {
    "collapsed": false
   },
   "outputs": [
    {
     "name": "stdout",
     "output_type": "stream",
     "text": [
      "The autoreload extension is already loaded. To reload it, use:\n",
      "  %reload_ext autoreload\n",
      "loading annotations into memory...\n",
      "0:00:02.147207\n",
      "creating index...\n",
      "index created!\n",
      "url: http://vision.cornell.edu/se3/coco-text/\n",
      "date_created: 2017-03-28\n",
      "version: 1.4\n",
      "description: This is 1.4 version of the 2017 COCO-Text dataset.\n",
      "author: COCO-Text group\n"
     ]
    }
   ],
   "source": [
    "from utils.coco_text import coco_text\n",
    "import numpy as np\n",
    "import pylab\n",
    "\n",
    "pylab.rcParams['figure.figsize'] = (10.0, 8.0)\n",
    "\n",
    "%load_ext autoreload\n",
    "%autoreload 2\n",
    "\n",
    "ct = coco_text.COCO_Text('data/COCO_Text.json')\n",
    "ct.info()"
   ]
  },
  {
   "cell_type": "markdown",
   "metadata": {},
   "source": [
    "### Example\n",
    "# {'handwritten', 'machine printed', 'others'}\n",
    "# {'english', 'na', 'not english'}\n",
    "# {'illegible', 'legible'}"
   ]
  },
  {
   "cell_type": "code",
   "execution_count": 4,
   "metadata": {
    "collapsed": true
   },
   "outputs": [
    {
     "name": "stdout",
     "output_type": "stream",
     "text": [
      "{'width': 640, 'file_name': 'COCO_train2014_000000030585.jpg', 'set': 'train', 'id': 30585, 'height': 480}\n"
     ]
    }
   ],
   "source": [
    "dataDir = \"/home/andrzej/PycharmProjects/OCR/data\"\n",
    "dataType = 'train2014'\n",
    "\n",
    "imgIds = ct.getImgIds(imgIds=ct.train,\n",
    "                      # catIds=[('legibility','legible')\n",
    "                      catIds=[('legibility', 'legible'),\n",
    "                              # (\"language\",\"english\")\n",
    "                              ]\n",
    "                      )\n",
    "img = ct.loadImgs(imgIds[np.random.randint(0, len(imgIds))])[0]\n",
    "# img = ct.loadImgs(162700)[0] # handwritten\n",
    "\n",
    "img = ct.loadImgs(30585)[0]\n",
    "print(img)\n",
    "\n",
    "# img_path = '%s/%s/%s' % (dataDir, dataType, img['file_name'])\n",
    "# I = io.imread(img_path)\n",
    "# plt.imshow(I)\n",
    "# annIds = ct.getAnnIds(imgIds=img['id'])\n",
    "# anns = ct.loadAnns(annIds)\n",
    "# print(anns)\n",
    "# ct.showAnns(anns)"
   ]
  },
  {
   "cell_type": "markdown",
   "source": [
    "Image processing"
   ],
   "metadata": {
    "collapsed": false
   }
  },
  {
   "cell_type": "code",
   "execution_count": null,
   "outputs": [],
   "source": [
    "import warnings\n",
    "warnings.simplefilter(\"ignore\", UserWarning)\n",
    "from utils.image_show import plot_image_text,get_image_text_from_image,plot_image\n",
    "from utils.filters import image_processing_clean_up\n",
    "import cv2\n",
    "from utils.detect.craft_main import craft_main\n",
    "from utils.transformers import read_all_text_from_images_text\n",
    "from utils.evaluate import save_result,evaluation_and_end_to_end_results\n",
    "\n",
    "\n",
    "# for i  in  range(len(imgIds)):\n",
    "    # img = ct.loadImgs(i)[0]\n",
    "for img in ct.loadImgs(imgIds)[4434:]:\n",
    "    img_path = '%s/%s/%s' % (dataDir, dataType, img['file_name'])\n",
    "    # print(img_path)\n",
    "    annIds = ct.getAnnIds(imgIds=img['id'])\n",
    "    anns = ct.loadAnns(annIds)\n",
    "\n",
    "    image_org = cv2.imread(img_path)\n",
    "    image = image_org.copy()\n",
    "    # plot_image(image)\n",
    "\n",
    "    bboxes = craft_main(image.copy())\n",
    "    images_text = [get_image_text_from_image(image, bbox) for bbox in bboxes]\n",
    "    generated_text = read_all_text_from_images_text(images_text)\n",
    "    save_result(generated_text, bboxes, img, append=True)"
   ],
   "metadata": {
    "collapsed": false,
    "pycharm": {
     "is_executing": true
    }
   }
  },
  {
   "cell_type": "code",
   "execution_count": 16,
   "outputs": [
    {
     "data": {
      "text/plain": "7321"
     },
     "execution_count": 16,
     "metadata": {},
     "output_type": "execute_result"
    }
   ],
   "source": [
    "imgIds.index(507237)\n",
    "# 196676\n",
    "# 65562"
   ],
   "metadata": {
    "collapsed": false
   }
  },
  {
   "cell_type": "code",
   "execution_count": 15,
   "outputs": [
    {
     "name": "stdout",
     "output_type": "stream",
     "text": [
      "Loading and preparing results...     \n",
      "DONE (t=1.06s)\n",
      "True positives have a ground truth id and an evaluation id:  {'gt_id': 1057396, 'eval_id': 0}\n",
      "False positives only have an evaluation id:  {'eval_id': 1}\n",
      "True negatives only have a ground truth id:  {'gt_id': 1186970}\n",
      "our approach\n",
      "\n",
      "Detection\n",
      "Recall\n",
      "legible & machine printed:  52.76\n",
      "legible & handwritten:  51.84\n",
      "legible overall:  52.71\n",
      "illegible & machine printed:  5.24\n",
      "illegible & handwritten:  6.10\n",
      "illegible overall:  5.29\n",
      "total recall:  40.1\n",
      "Precision\n",
      "total precision:  61.53\n",
      "f-score\n",
      "f-score localization:  48.59\n",
      "\n",
      "Transcription\n",
      "accuracy for exact matches:  55.14\n",
      "accuracy for matches with edit distance<=1:  71.63\n",
      "\n",
      "End-to-end\n",
      "recall:  29.54 precision:  32.94\n",
      "End-to-end f-score:  31.15\n",
      "\n",
      "52.76 & 51.84 & 5.24 & 6.10 & 40.1 & 61.53 & 48.59 & 55.14 & 29.54 & 32.94 & 31.15\n"
     ]
    }
   ],
   "source": [
    "evaluation_and_end_to_end_results(ct)"
   ],
   "metadata": {
    "collapsed": false
   }
  }
 ],
 "metadata": {
  "kernelspec": {
   "name": "python3",
   "language": "python",
   "display_name": "Python 3 (ipykernel)"
  },
  "language_info": {
   "codemirror_mode": {
    "name": "ipython",
    "version": 2
   },
   "file_extension": ".py",
   "mimetype": "text/x-python",
   "name": "python",
   "nbconvert_exporter": "python",
   "pygments_lexer": "ipython2",
   "version": "2.7.10"
  }
 },
 "nbformat": 4,
 "nbformat_minor": 0
}
